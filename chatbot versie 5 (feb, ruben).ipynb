{
 "cells": [
  {
   "cell_type": "code",
   "execution_count": 1,
   "id": "bbbc2458",
   "metadata": {},
   "outputs": [],
   "source": [
    "import nltk"
   ]
  },
  {
   "cell_type": "code",
   "execution_count": 2,
   "id": "fd42dabb",
   "metadata": {},
   "outputs": [
    {
     "name": "stderr",
     "output_type": "stream",
     "text": [
      "[nltk_data] Downloading package punkt to /home/lcur0984/nltk_data...\n",
      "[nltk_data]   Package punkt is already up-to-date!\n"
     ]
    },
    {
     "data": {
      "text/plain": [
       "True"
      ]
     },
     "execution_count": 2,
     "metadata": {},
     "output_type": "execute_result"
    }
   ],
   "source": [
    "nltk.download(\"punkt\")"
   ]
  },
  {
   "cell_type": "code",
   "execution_count": 3,
   "id": "24ce7b3d",
   "metadata": {},
   "outputs": [],
   "source": [
    "import nltk"
   ]
  },
  {
   "cell_type": "code",
   "execution_count": 4,
   "id": "315f2fc8",
   "metadata": {},
   "outputs": [],
   "source": [
    "from nltk.stem.lancaster import LancasterStemmer"
   ]
  },
  {
   "cell_type": "code",
   "execution_count": 5,
   "id": "9cf08956",
   "metadata": {},
   "outputs": [],
   "source": [
    "import numpy as np"
   ]
  },
  {
   "cell_type": "code",
   "execution_count": 6,
   "id": "30016ab0",
   "metadata": {},
   "outputs": [
    {
     "name": "stdout",
     "output_type": "stream",
     "text": [
      "WARNING:tensorflow:From /sw/arch/Debian10/EB_production/2021/software/TensorFlow/2.6.0-foss-2021a-CUDA-11.3.1/lib/python3.9/site-packages/tensorflow/python/compat/v2_compat.py:101: disable_resource_variables (from tensorflow.python.ops.variable_scope) is deprecated and will be removed in a future version.\n",
      "Instructions for updating:\n",
      "non-resource variables are not supported in the long term\n"
     ]
    }
   ],
   "source": [
    "import tflearn"
   ]
  },
  {
   "cell_type": "code",
   "execution_count": 7,
   "id": "836773d3",
   "metadata": {},
   "outputs": [],
   "source": [
    "import tensorflow as tf"
   ]
  },
  {
   "cell_type": "code",
   "execution_count": 8,
   "id": "01c17d32",
   "metadata": {},
   "outputs": [],
   "source": [
    "import json"
   ]
  },
  {
   "cell_type": "code",
   "execution_count": 9,
   "id": "0b99681d",
   "metadata": {},
   "outputs": [],
   "source": [
    "import pickle"
   ]
  },
  {
   "cell_type": "code",
   "execution_count": 10,
   "id": "871e8b0f",
   "metadata": {},
   "outputs": [],
   "source": [
    "import random"
   ]
  },
  {
   "cell_type": "code",
   "execution_count": 11,
   "id": "faba1713",
   "metadata": {
    "scrolled": true
   },
   "outputs": [],
   "source": [
    "#Loading intents.json\n",
    "with open('intents.json') as intents:\n",
    "  data = json.load(intents)\n",
    "\n",
    "stemmer = LancasterStemmer()\n",
    "\n",
    "# getting informations from intents.json--\n",
    "words = []\n",
    "labels = []\n",
    "x_docs = []\n",
    "y_docs = []\n",
    "\n",
    "for intent in data['intents']:\n",
    "    for pattern in intent['patterns']:\n",
    "        wrds = nltk.word_tokenize(pattern)\n",
    "        words.extend(wrds)\n",
    "        x_docs.append(wrds)\n",
    "        y_docs.append(intent['tag'])\n",
    "\n",
    "        if intent['tag'] not in labels:\n",
    "            labels.append(intent['tag'])"
   ]
  },
  {
   "cell_type": "code",
   "execution_count": 12,
   "id": "f28ecfc1",
   "metadata": {},
   "outputs": [],
   "source": [
    "\n",
    "# Stemming the words and removing duplicate elements.\n",
    "words = [stemmer.stem(w.lower()) for w in words if w not in \"?\"]\n",
    "words = sorted(list(set(words)))\n",
    "labels = sorted(labels)"
   ]
  },
  {
   "cell_type": "code",
   "execution_count": 13,
   "id": "89167e68",
   "metadata": {},
   "outputs": [],
   "source": [
    "training = []\n",
    "output = []\n",
    "out_empty = [0 for _ in range(len(labels))]\n",
    "\n",
    "# One hot encoding, Converting the words to numerals\n",
    "for x, doc in enumerate(x_docs):\n",
    "    bag = []\n",
    "    wrds = [stemmer.stem(w) for w in doc]\n",
    "    for w in words:\n",
    "        if w in wrds:\n",
    "            bag.append(1)\n",
    "        else:\n",
    "            bag.append(0)\n",
    "\n",
    "\n",
    "    output_row = out_empty[:]\n",
    "    output_row[labels.index(y_docs[x])] = 1\n",
    "\n",
    "    training.append(bag)\n",
    "    output.append(output_row)\n",
    "\n",
    "\n",
    "training = np.array(training)\n",
    "output = np.array(output)"
   ]
  },
  {
   "cell_type": "code",
   "execution_count": 14,
   "id": "3483e71e",
   "metadata": {},
   "outputs": [
    {
     "name": "stdout",
     "output_type": "stream",
     "text": [
      "Training Step: 1499  | total loss: \u001b[1m\u001b[32m0.00199\u001b[0m\u001b[0m | time: 0.003s\n",
      "| Adam | epoch: 500 | loss: 0.00199 - acc: 1.0000 -- iter: 16/18\n",
      "Training Step: 1500  | total loss: \u001b[1m\u001b[32m0.00198\u001b[0m\u001b[0m | time: 0.005s\n",
      "| Adam | epoch: 500 | loss: 0.00198 - acc: 1.0000 -- iter: 18/18\n",
      "--\n",
      "INFO:tensorflow:/home/lcur0984/JHL_notebooks/Chatbot Ruben feb 2023/model.tflearn is not in all_model_checkpoint_paths. Manually adding it.\n"
     ]
    }
   ],
   "source": [
    "net = tflearn.input_data(shape=[None, len(training[0])])\n",
    "net = tflearn.fully_connected(net, 10)\n",
    "net = tflearn.fully_connected(net, 10)\n",
    "net = tflearn.fully_connected(net, 10)\n",
    "net = tflearn.fully_connected(net, len(output[0]), activation='softmax')\n",
    "net = tflearn.regression(net)\n",
    "\n",
    "model = tflearn.DNN(net)\n",
    "model.fit(training, output, n_epoch=500, batch_size=8, show_metric=True)\n",
    "model.save('model.tflearn')"
   ]
  },
  {
   "cell_type": "code",
   "execution_count": 15,
   "id": "4153597e",
   "metadata": {},
   "outputs": [],
   "source": [
    "def bag_of_words(s, words):\n",
    "    bag = [0 for _ in range(len(words))]\n",
    "    s_words = nltk.word_tokenize(s)\n",
    "    s_words = [stemmer.stem(word.lower()) for word in s_words]\n",
    "\n",
    "    for s_word in s_words:\n",
    "        for i, w in enumerate(words):\n",
    "            if w == s_word:\n",
    "                bag[i] = 1\n",
    "\n",
    "    return np.array(bag)"
   ]
  },
  {
   "cell_type": "code",
   "execution_count": 16,
   "id": "3d715f82",
   "metadata": {},
   "outputs": [],
   "source": [
    "def chat():\n",
    "\n",
    "    while True:\n",
    "        inp = input(\"\\n\\nYou: \")\n",
    "        if inp.lower() == 'quit':\n",
    "            break\n",
    "\n",
    "    #Porbability of correct response \n",
    "        results = model.predict([bag_of_words(inp, words)])\n",
    "\n",
    "    # Picking the greatest number from probability\n",
    "        results_index = np.argmax(results)\n",
    "\n",
    "        tag = labels[results_index]\n",
    "\n",
    "        for tg in data['intents']:\n",
    "\n",
    "            if tg['tag'] == tag:\n",
    "                responses = tg['responses']\n",
    "                print(\"Bot:\\t\" + random.choice(responses))"
   ]
  },
  {
   "cell_type": "code",
   "execution_count": null,
   "id": "da1c6335",
   "metadata": {},
   "outputs": [
    {
     "name": "stdout",
     "output_type": "stream",
     "text": [
      "\n",
      "\n",
      "You: hello\n",
      "Bot:\tGood to see you again\n",
      "\n",
      "\n",
      "You: how are you\n",
      "Bot:\tGood to see you again\n"
     ]
    }
   ],
   "source": [
    "chat()"
   ]
  },
  {
   "cell_type": "code",
   "execution_count": null,
   "id": "4b9df7f0",
   "metadata": {},
   "outputs": [],
   "source": []
  }
 ],
 "metadata": {
  "kernelspec": {
   "display_name": "Python 3 (ipykernel)",
   "language": "python",
   "name": "python3"
  },
  "language_info": {
   "codemirror_mode": {
    "name": "ipython",
    "version": 3
   },
   "file_extension": ".py",
   "mimetype": "text/x-python",
   "name": "python",
   "nbconvert_exporter": "python",
   "pygments_lexer": "ipython3",
   "version": "3.9.5"
  }
 },
 "nbformat": 4,
 "nbformat_minor": 5
}
